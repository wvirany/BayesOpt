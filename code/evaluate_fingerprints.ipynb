{
 "cells": [
  {
   "cell_type": "markdown",
   "metadata": {},
   "source": [
    "## Config"
   ]
  },
  {
   "cell_type": "code",
   "execution_count": 1,
   "metadata": {},
   "outputs": [
    {
     "name": "stderr",
     "output_type": "stream",
     "text": [
      "/home/wvir/miniconda3/envs/polaris/lib/python3.12/site-packages/tqdm/auto.py:21: TqdmWarning: IProgress not found. Please update jupyter and ipywidgets. See https://ipywidgets.readthedocs.io/en/stable/user_install.html\n",
      "  from .autonotebook import tqdm as notebook_tqdm\n"
     ]
    }
   ],
   "source": [
    "import polaris as po\n",
    "from polaris.hub.client import PolarisHubClient\n",
    "\n",
    "import matplotlib.pyplot as plt\n",
    "import seaborn as sns\n",
    "\n",
    "from utils import evaluate_gp\n",
    "\n",
    "import pickle\n",
    "import warnings\n",
    "warnings.filterwarnings(\"ignore\")"
   ]
  },
  {
   "cell_type": "code",
   "execution_count": 2,
   "metadata": {},
   "outputs": [],
   "source": [
    "# Set up Seaborn plotting style\n",
    "sns.set_style(\"darkgrid\",\n",
    "              {\"axes.facecolor\": \".95\",\n",
    "               \"axes.edgecolor\": \"#000000\",\n",
    "               \"grid.color\": \"#EBEBE7\",\n",
    "               \"font.family\": \"serif\",\n",
    "               \"axes.labelcolor\": \"#000000\",\n",
    "               \"xtick.color\": \"#000000\",\n",
    "               \"ytick.color\": \"#000000\",\n",
    "               \"grid.alpha\": 0.4 })\n",
    "sns.set_palette('muted')"
   ]
  },
  {
   "cell_type": "code",
   "execution_count": 3,
   "metadata": {},
   "outputs": [
    {
     "name": "stderr",
     "output_type": "stream",
     "text": [
      "\u001b[32m2025-01-16 08:55:34.512\u001b[0m | \u001b[32m\u001b[1mSUCCESS \u001b[0m | \u001b[36mpolaris.hub.client\u001b[0m:\u001b[36mlogin\u001b[0m:\u001b[36m268\u001b[0m - \u001b[32m\u001b[1mYou are successfully logged in to the Polaris Hub.\u001b[0m\n"
     ]
    },
    {
     "name": "stdout",
     "output_type": "stream",
     "text": [
      "⠙ Fetching dataset... "
     ]
    },
    {
     "name": "stderr",
     "output_type": "stream",
     "text": [
      "\u001b[32m2025-01-16 08:55:35.569\u001b[0m | \u001b[1mINFO    \u001b[0m | \u001b[36mpolaris._artifact\u001b[0m:\u001b[36m_validate_version\u001b[0m:\u001b[36m84\u001b[0m - \u001b[1mThe version of Polaris that was used to create the artifact (0.0.0) is different from the currently installed version of Polaris (0.9.1).\u001b[0m\n",
      "\u001b[32m2025-01-16 08:55:35.571\u001b[0m | \u001b[1mINFO    \u001b[0m | \u001b[36mpolaris.mixins._checksum\u001b[0m:\u001b[36mverify_checksum\u001b[0m:\u001b[36m65\u001b[0m - \u001b[1mTo verify the checksum, we need to recompute it. This can be slow for large datasets.\u001b[0m\n"
     ]
    },
    {
     "name": "stdout",
     "output_type": "stream",
     "text": [
      "✅ SUCCESS: \u001b[1mFetched dataset.\u001b[0m\n",
      " \n",
      "⠙ Fetching artifact... "
     ]
    },
    {
     "name": "stderr",
     "output_type": "stream",
     "text": [
      "\u001b[32m2025-01-16 08:55:36.588\u001b[0m | \u001b[1mINFO    \u001b[0m | \u001b[36mpolaris._artifact\u001b[0m:\u001b[36m_validate_version\u001b[0m:\u001b[36m84\u001b[0m - \u001b[1mThe version of Polaris that was used to create the artifact (0.0.0) is different from the currently installed version of Polaris (0.9.1).\u001b[0m\n",
      "\u001b[32m2025-01-16 08:55:36.591\u001b[0m | \u001b[1mINFO    \u001b[0m | \u001b[36mpolaris.mixins._checksum\u001b[0m:\u001b[36mverify_checksum\u001b[0m:\u001b[36m65\u001b[0m - \u001b[1mTo verify the checksum, we need to recompute it. This can be slow for large datasets.\u001b[0m\n"
     ]
    },
    {
     "name": "stdout",
     "output_type": "stream",
     "text": [
      "⠋ Fetching dataset...  "
     ]
    },
    {
     "name": "stderr",
     "output_type": "stream",
     "text": [
      "\u001b[32m2025-01-16 08:55:36.610\u001b[0m | \u001b[1mINFO    \u001b[0m | \u001b[36mpolaris._artifact\u001b[0m:\u001b[36m_validate_version\u001b[0m:\u001b[36m84\u001b[0m - \u001b[1mThe version of Polaris that was used to create the artifact (0.0.0) is different from the currently installed version of Polaris (0.9.1).\u001b[0m\n",
      "\u001b[32m2025-01-16 08:55:36.613\u001b[0m | \u001b[33m\u001b[1mWARNING \u001b[0m | \u001b[36mpolaris.mixins._checksum\u001b[0m:\u001b[36mverify_checksum\u001b[0m:\u001b[36m58\u001b[0m - \u001b[33m\u001b[1mNo checksum to verify against. Specify either the md5sum parameter or store the checksum in the dataset.md5sum attribute.\u001b[0m\n"
     ]
    },
    {
     "name": "stdout",
     "output_type": "stream",
     "text": [
      "✅ SUCCESS: \u001b[1mFetched dataset.\u001b[0m\n",
      " \n",
      "✅ SUCCESS: \u001b[1mFetched artifact.\u001b[0m\n",
      " \n"
     ]
    }
   ],
   "source": [
    "client = PolarisHubClient()\n",
    "client.login()\n",
    "\n",
    "dataset = po.load_dataset(\"polaris/adme-fang-1\")\n",
    "benchmark = po.load_benchmark(\"polaris/adme-fang-SOLU-1\")"
   ]
  },
  {
   "cell_type": "markdown",
   "metadata": {},
   "source": [
    "## Evaluation"
   ]
  },
  {
   "cell_type": "code",
   "execution_count": 4,
   "metadata": {},
   "outputs": [],
   "source": [
    "# Get data from Polaris benchmark\n",
    "train, test = benchmark.get_train_test_split()\n",
    "\n",
    "smiles_train = train.X\n",
    "y_train = train.y\n",
    "smiles_test = test.X"
   ]
  },
  {
   "cell_type": "code",
   "execution_count": 5,
   "metadata": {},
   "outputs": [],
   "source": [
    "means, vars, results, tlls = {}, {}, {}, {}\n",
    "\n",
    "sizes = [256, 512, 1024, 2048]\n",
    "fps = ['ecfp', 'fcfp', 'topological', 'atompair']"
   ]
  },
  {
   "cell_type": "code",
   "execution_count": null,
   "metadata": {},
   "outputs": [
    {
     "name": "stdout",
     "output_type": "stream",
     "text": [
      "Start MLL: -1891.721923828125\n",
      "End MLL (after optimization): -1530.4366455078125\n",
      "End GP parameters (after optimization): TanimotoGP_Params(raw_amplitude=Array(-0.00059817, dtype=float32), raw_noise=Array(-0.94969547, dtype=float32))\n",
      "Start MLL: -1909.451416015625\n",
      "End MLL (after optimization): -1532.201904296875\n",
      "End GP parameters (after optimization): TanimotoGP_Params(raw_amplitude=Array(-0.00417468, dtype=float32), raw_noise=Array(-0.95824724, dtype=float32))\n",
      "Start MLL: -1923.405029296875\n",
      "End MLL (after optimization): -1540.7352294921875\n",
      "End GP parameters (after optimization): TanimotoGP_Params(raw_amplitude=Array(-0.00574401, dtype=float32), raw_noise=Array(-0.96089876, dtype=float32))\n",
      "Start MLL: -1927.118896484375\n",
      "End MLL (after optimization): -1536.787109375\n",
      "End GP parameters (after optimization): TanimotoGP_Params(raw_amplitude=Array(-0.00732213, dtype=float32), raw_noise=Array(-0.96480393, dtype=float32))\n",
      "Start MLL: -1935.939208984375\n",
      "End MLL (after optimization): -1543.0654296875\n",
      "End GP parameters (after optimization): TanimotoGP_Params(raw_amplitude=Array(-0.00805702, dtype=float32), raw_noise=Array(-0.96608233, dtype=float32))\n",
      "Start MLL: -1835.4208984375\n",
      "End MLL (after optimization): -1487.337890625\n",
      "End GP parameters (after optimization): TanimotoGP_Params(raw_amplitude=Array(0.00789389, dtype=float32), raw_noise=Array(-0.9458149, dtype=float32))\n",
      "Start MLL: -1847.459716796875\n",
      "End MLL (after optimization): -1490.8590087890625\n",
      "End GP parameters (after optimization): TanimotoGP_Params(raw_amplitude=Array(0.00451949, dtype=float32), raw_noise=Array(-0.9497274, dtype=float32))\n",
      "Start MLL: -1854.0927734375\n",
      "End MLL (after optimization): -1491.4998779296875\n",
      "End GP parameters (after optimization): TanimotoGP_Params(raw_amplitude=Array(0.00304456, dtype=float32), raw_noise=Array(-0.952979, dtype=float32))\n",
      "Start MLL: -1856.9615478515625\n",
      "End MLL (after optimization): -1490.124755859375\n",
      "End GP parameters (after optimization): TanimotoGP_Params(raw_amplitude=Array(0.00190811, dtype=float32), raw_noise=Array(-0.9551184, dtype=float32))\n",
      "Start MLL: -1859.772705078125\n",
      "End MLL (after optimization): -1488.018310546875\n",
      "End GP parameters (after optimization): TanimotoGP_Params(raw_amplitude=Array(0.00125918, dtype=float32), raw_noise=Array(-0.9580448, dtype=float32))\n",
      "Start MLL: -1835.28076171875\n",
      "End MLL (after optimization): -1487.51611328125\n",
      "End GP parameters (after optimization): TanimotoGP_Params(raw_amplitude=Array(0.00895828, dtype=float32), raw_noise=Array(-0.9467076, dtype=float32))\n",
      "Start MLL: -1866.792724609375\n",
      "End MLL (after optimization): -1499.24072265625\n",
      "End GP parameters (after optimization): TanimotoGP_Params(raw_amplitude=Array(0.00240471, dtype=float32), raw_noise=Array(-0.95638585, dtype=float32))\n",
      "Start MLL: -1886.024658203125\n",
      "End MLL (after optimization): -1508.588134765625\n",
      "End GP parameters (after optimization): TanimotoGP_Params(raw_amplitude=Array(-0.00064191, dtype=float32), raw_noise=Array(-0.96103483, dtype=float32))\n",
      "Start MLL: -1896.004638671875\n",
      "End MLL (after optimization): -1513.846435546875\n",
      "End GP parameters (after optimization): TanimotoGP_Params(raw_amplitude=Array(-0.00235304, dtype=float32), raw_noise=Array(-0.96294004, dtype=float32))\n",
      "Start MLL: -1907.7523193359375\n",
      "End MLL (after optimization): -1522.43212890625\n",
      "End GP parameters (after optimization): TanimotoGP_Params(raw_amplitude=Array(-0.00357881, dtype=float32), raw_noise=Array(-0.96418273, dtype=float32))\n",
      "Start MLL: -1857.22021484375\n",
      "End MLL (after optimization): -1503.698486328125\n",
      "End GP parameters (after optimization): TanimotoGP_Params(raw_amplitude=Array(0.00291874, dtype=float32), raw_noise=Array(-0.9465885, dtype=float32))\n",
      "Start MLL: -1865.92236328125\n",
      "End MLL (after optimization): -1504.90087890625\n",
      "End GP parameters (after optimization): TanimotoGP_Params(raw_amplitude=Array(0.00064896, dtype=float32), raw_noise=Array(-0.95029104, dtype=float32))\n",
      "Start MLL: -1873.229736328125\n",
      "End MLL (after optimization): -1509.740234375\n",
      "End GP parameters (after optimization): TanimotoGP_Params(raw_amplitude=Array(-0.00016065, dtype=float32), raw_noise=Array(-0.95150495, dtype=float32))\n",
      "Start MLL: -1875.178955078125\n",
      "End MLL (after optimization): -1508.352294921875\n",
      "End GP parameters (after optimization): TanimotoGP_Params(raw_amplitude=Array(-0.00089114, dtype=float32), raw_noise=Array(-0.95328826, dtype=float32))\n",
      "Start MLL: -1882.12109375\n",
      "End MLL (after optimization): -1511.9091796875\n",
      "End GP parameters (after optimization): TanimotoGP_Params(raw_amplitude=Array(-0.00188592, dtype=float32), raw_noise=Array(-0.9549414, dtype=float32))\n"
     ]
    }
   ],
   "source": [
    "# for fp in fps:\n",
    "#     for size in sizes:\n",
    "#         key = fp + '-' + str(size)\n",
    "#         mean, var, tll = evaluate_gp(smiles_train, y_train, smiles_test, fp_type=fp, sparse=False, fpSize=size)\n",
    "\n",
    "#         means[key], vars[key], tlls[key] = mean, var, tll\n",
    "#         results[key] = benchmark.evaluate(mean)\n",
    "\n",
    "#     key = fp + '-sparse'\n",
    "#     mean, var, tll = evaluate_gp(smiles_train, y_train, smiles_test, fp_type=fp)\n",
    "\n",
    "#     means[key], vars[key], tlls[key] = mean, var, tll\n",
    "#     results[key] = benchmark.evaluate(mean)"
   ]
  },
  {
   "cell_type": "code",
   "execution_count": 20,
   "metadata": {},
   "outputs": [],
   "source": [
    "# with open('data/means.pkl', 'wb') as file:\n",
    "#     pickle.dump(means, file)\n",
    "# with open('data/vars.pkl', 'wb') as file:\n",
    "#     pickle.dump(vars, file)\n",
    "# with open('data/results.pkl', 'wb') as file:\n",
    "#     pickle.dump(results, file)\n",
    "# with open('data/tlls.pkl', 'wb') as file:\n",
    "#     pickle.dump(tlls, file)"
   ]
  },
  {
   "cell_type": "code",
   "execution_count": 14,
   "metadata": {},
   "outputs": [],
   "source": [
    "with open('data/means.pkl', 'rb') as file:\n",
    "    means = pickle.load(file)\n",
    "with open('data/vars.pkl', 'rb') as file:\n",
    "    vars = pickle.load(file)\n",
    "with open('data/results.pkl', 'rb') as file:\n",
    "    results = pickle.load(file)\n",
    "with open('data/tlls.pkl', 'rb') as file:\n",
    "    tlls = pickle.load(file)"
   ]
  },
  {
   "cell_type": "code",
   "execution_count": 12,
   "metadata": {},
   "outputs": [
    {
     "ename": "TypeError",
     "evalue": "JAX does not support string indexing; got idx=('ecfp-256',)",
     "output_type": "error",
     "traceback": [
      "\u001b[0;31m---------------------------------------------------------------------------\u001b[0m",
      "\u001b[0;31mTypeError\u001b[0m                                 Traceback (most recent call last)",
      "\u001b[0;32m/tmp/ipykernel_84503/3862516970.py\u001b[0m in \u001b[0;36m?\u001b[0;34m()\u001b[0m\n\u001b[1;32m      6\u001b[0m \u001b[0;34m\u001b[0m\u001b[0m\n\u001b[1;32m      7\u001b[0m     \u001b[0mscores\u001b[0m \u001b[0;34m=\u001b[0m \u001b[0;34m[\u001b[0m\u001b[0;34m]\u001b[0m\u001b[0;34m\u001b[0m\u001b[0;34m\u001b[0m\u001b[0m\n\u001b[1;32m      8\u001b[0m     \u001b[0;32mfor\u001b[0m \u001b[0ms\u001b[0m \u001b[0;32min\u001b[0m \u001b[0msizes\u001b[0m\u001b[0;34m:\u001b[0m\u001b[0;34m\u001b[0m\u001b[0;34m\u001b[0m\u001b[0m\n\u001b[1;32m      9\u001b[0m         \u001b[0mkey\u001b[0m \u001b[0;34m=\u001b[0m \u001b[0mlabel\u001b[0m \u001b[0;34m+\u001b[0m \u001b[0;34m'-'\u001b[0m \u001b[0;34m+\u001b[0m \u001b[0mstr\u001b[0m\u001b[0;34m(\u001b[0m\u001b[0ms\u001b[0m\u001b[0;34m)\u001b[0m\u001b[0;34m\u001b[0m\u001b[0;34m\u001b[0m\u001b[0m\n\u001b[0;32m---> 10\u001b[0;31m         \u001b[0mscores\u001b[0m\u001b[0;34m.\u001b[0m\u001b[0mappend\u001b[0m\u001b[0;34m(\u001b[0m\u001b[0mtlls\u001b[0m\u001b[0;34m[\u001b[0m\u001b[0mkey\u001b[0m\u001b[0;34m]\u001b[0m\u001b[0;34m)\u001b[0m\u001b[0;34m\u001b[0m\u001b[0;34m\u001b[0m\u001b[0m\n\u001b[0m\u001b[1;32m     11\u001b[0m \u001b[0;34m\u001b[0m\u001b[0m\n\u001b[1;32m     12\u001b[0m \u001b[0;34m\u001b[0m\u001b[0m\n\u001b[1;32m     13\u001b[0m     \u001b[0max\u001b[0m\u001b[0;34m.\u001b[0m\u001b[0mplot\u001b[0m\u001b[0;34m(\u001b[0m\u001b[0msizes\u001b[0m\u001b[0;34m,\u001b[0m \u001b[0mscores\u001b[0m\u001b[0;34m,\u001b[0m \u001b[0mlabel\u001b[0m\u001b[0;34m=\u001b[0m\u001b[0mlabel\u001b[0m\u001b[0;34m,\u001b[0m \u001b[0mlw\u001b[0m\u001b[0;34m=\u001b[0m\u001b[0;36m.8\u001b[0m\u001b[0;34m,\u001b[0m \u001b[0mc\u001b[0m\u001b[0;34m=\u001b[0m\u001b[0mcolor\u001b[0m\u001b[0;34m)\u001b[0m\u001b[0;34m\u001b[0m\u001b[0;34m\u001b[0m\u001b[0m\n",
      "\u001b[0;32m~/miniconda3/envs/polaris/lib/python3.12/site-packages/jax/_src/array.py\u001b[0m in \u001b[0;36m?\u001b[0;34m(self, idx)\u001b[0m\n\u001b[1;32m    366\u001b[0m \u001b[0;34m\u001b[0m\u001b[0m\n\u001b[1;32m    367\u001b[0m         return ArrayImpl(\n\u001b[1;32m    368\u001b[0m             \u001b[0mout\u001b[0m\u001b[0;34m.\u001b[0m\u001b[0maval\u001b[0m\u001b[0;34m,\u001b[0m \u001b[0msharding\u001b[0m\u001b[0;34m,\u001b[0m \u001b[0;34m[\u001b[0m\u001b[0mout\u001b[0m\u001b[0;34m]\u001b[0m\u001b[0;34m,\u001b[0m \u001b[0mcommitted\u001b[0m\u001b[0;34m=\u001b[0m\u001b[0;32mFalse\u001b[0m\u001b[0;34m,\u001b[0m \u001b[0m_skip_checks\u001b[0m\u001b[0;34m=\u001b[0m\u001b[0;32mTrue\u001b[0m\u001b[0;34m)\u001b[0m\u001b[0;34m\u001b[0m\u001b[0;34m\u001b[0m\u001b[0m\n\u001b[1;32m    369\u001b[0m \u001b[0;34m\u001b[0m\u001b[0m\n\u001b[0;32m--> 370\u001b[0;31m     \u001b[0;32mreturn\u001b[0m \u001b[0mlax_numpy\u001b[0m\u001b[0;34m.\u001b[0m\u001b[0m_rewriting_take\u001b[0m\u001b[0;34m(\u001b[0m\u001b[0mself\u001b[0m\u001b[0;34m,\u001b[0m \u001b[0midx\u001b[0m\u001b[0;34m)\u001b[0m\u001b[0;34m\u001b[0m\u001b[0;34m\u001b[0m\u001b[0m\n\u001b[0m",
      "\u001b[0;32m~/miniconda3/envs/polaris/lib/python3.12/site-packages/jax/_src/numpy/lax_numpy.py\u001b[0m in \u001b[0;36m?\u001b[0;34m(arr, idx, indices_are_sorted, unique_indices, mode, fill_value)\u001b[0m\n\u001b[1;32m  11406\u001b[0m           \u001b[0;32mnot\u001b[0m \u001b[0mdtypes\u001b[0m\u001b[0;34m.\u001b[0m\u001b[0missubdtype\u001b[0m\u001b[0;34m(\u001b[0m\u001b[0maval\u001b[0m\u001b[0;34m.\u001b[0m\u001b[0mdtype\u001b[0m\u001b[0;34m,\u001b[0m \u001b[0mdtypes\u001b[0m\u001b[0;34m.\u001b[0m\u001b[0mbool_\u001b[0m\u001b[0;34m)\u001b[0m \u001b[0;32mand\u001b[0m\u001b[0;34m\u001b[0m\u001b[0;34m\u001b[0m\u001b[0m\n\u001b[1;32m  11407\u001b[0m           \u001b[0misinstance\u001b[0m\u001b[0;34m(\u001b[0m\u001b[0marr\u001b[0m\u001b[0;34m.\u001b[0m\u001b[0mshape\u001b[0m\u001b[0;34m[\u001b[0m\u001b[0;36m0\u001b[0m\u001b[0;34m]\u001b[0m\u001b[0;34m,\u001b[0m \u001b[0mint\u001b[0m\u001b[0;34m)\u001b[0m\u001b[0;34m)\u001b[0m\u001b[0;34m:\u001b[0m\u001b[0;34m\u001b[0m\u001b[0;34m\u001b[0m\u001b[0m\n\u001b[1;32m  11408\u001b[0m         \u001b[0;32mreturn\u001b[0m \u001b[0mlax\u001b[0m\u001b[0;34m.\u001b[0m\u001b[0mdynamic_index_in_dim\u001b[0m\u001b[0;34m(\u001b[0m\u001b[0marr\u001b[0m\u001b[0;34m,\u001b[0m \u001b[0midx\u001b[0m\u001b[0;34m,\u001b[0m \u001b[0mkeepdims\u001b[0m\u001b[0;34m=\u001b[0m\u001b[0;32mFalse\u001b[0m\u001b[0;34m)\u001b[0m\u001b[0;34m\u001b[0m\u001b[0;34m\u001b[0m\u001b[0m\n\u001b[1;32m  11409\u001b[0m \u001b[0;34m\u001b[0m\u001b[0m\n\u001b[0;32m> 11410\u001b[0;31m   \u001b[0mtreedef\u001b[0m\u001b[0;34m,\u001b[0m \u001b[0mstatic_idx\u001b[0m\u001b[0;34m,\u001b[0m \u001b[0mdynamic_idx\u001b[0m \u001b[0;34m=\u001b[0m \u001b[0m_split_index_for_jit\u001b[0m\u001b[0;34m(\u001b[0m\u001b[0midx\u001b[0m\u001b[0;34m,\u001b[0m \u001b[0marr\u001b[0m\u001b[0;34m.\u001b[0m\u001b[0mshape\u001b[0m\u001b[0;34m)\u001b[0m\u001b[0;34m\u001b[0m\u001b[0;34m\u001b[0m\u001b[0m\n\u001b[0m\u001b[1;32m  11411\u001b[0m   return _gather(arr, treedef, static_idx, dynamic_idx, indices_are_sorted,\n\u001b[1;32m  11412\u001b[0m                  \u001b[0munique_indices\u001b[0m\u001b[0;34m,\u001b[0m \u001b[0mmode\u001b[0m\u001b[0;34m,\u001b[0m \u001b[0mfill_value\u001b[0m\u001b[0;34m)\u001b[0m\u001b[0;34m\u001b[0m\u001b[0;34m\u001b[0m\u001b[0m\n",
      "\u001b[0;32m~/miniconda3/envs/polaris/lib/python3.12/site-packages/jax/_src/numpy/lax_numpy.py\u001b[0m in \u001b[0;36m?\u001b[0;34m(idx, shape)\u001b[0m\n\u001b[1;32m  11487\u001b[0m   \"\"\"\n\u001b[1;32m  11488\u001b[0m   \u001b[0;31m# Convert list indices to tuples in cases (deprecated by NumPy.)\u001b[0m\u001b[0;34m\u001b[0m\u001b[0;34m\u001b[0m\u001b[0m\n\u001b[1;32m  11489\u001b[0m   \u001b[0midx\u001b[0m \u001b[0;34m=\u001b[0m \u001b[0m_eliminate_deprecated_list_indexing\u001b[0m\u001b[0;34m(\u001b[0m\u001b[0midx\u001b[0m\u001b[0;34m)\u001b[0m\u001b[0;34m\u001b[0m\u001b[0;34m\u001b[0m\u001b[0m\n\u001b[1;32m  11490\u001b[0m   \u001b[0;32mif\u001b[0m \u001b[0many\u001b[0m\u001b[0;34m(\u001b[0m\u001b[0misinstance\u001b[0m\u001b[0;34m(\u001b[0m\u001b[0mi\u001b[0m\u001b[0;34m,\u001b[0m \u001b[0mstr\u001b[0m\u001b[0;34m)\u001b[0m \u001b[0;32mfor\u001b[0m \u001b[0mi\u001b[0m \u001b[0;32min\u001b[0m \u001b[0midx\u001b[0m\u001b[0;34m)\u001b[0m\u001b[0;34m:\u001b[0m\u001b[0;34m\u001b[0m\u001b[0;34m\u001b[0m\u001b[0m\n\u001b[0;32m> 11491\u001b[0;31m     \u001b[0;32mraise\u001b[0m \u001b[0mTypeError\u001b[0m\u001b[0;34m(\u001b[0m\u001b[0;34mf\"\u001b[0m\u001b[0;34mJAX does not support string indexing; got \u001b[0m\u001b[0;34m{\u001b[0m\u001b[0midx\u001b[0m\u001b[0;34m=\u001b[0m\u001b[0;34m}\u001b[0m\u001b[0;34m\"\u001b[0m\u001b[0;34m)\u001b[0m\u001b[0;34m\u001b[0m\u001b[0;34m\u001b[0m\u001b[0m\n\u001b[0m\u001b[1;32m  11492\u001b[0m \u001b[0;34m\u001b[0m\u001b[0m\n\u001b[1;32m  11493\u001b[0m   \u001b[0;31m# Expand any (concrete) boolean indices. We can then use advanced integer\u001b[0m\u001b[0;34m\u001b[0m\u001b[0;34m\u001b[0m\u001b[0m\n\u001b[1;32m  11494\u001b[0m   \u001b[0;31m# indexing logic to handle them.\u001b[0m\u001b[0;34m\u001b[0m\u001b[0;34m\u001b[0m\u001b[0m\n",
      "\u001b[0;31mTypeError\u001b[0m: JAX does not support string indexing; got idx=('ecfp-256',)"
     ]
    },
    {
     "data": {
      "image/png": "[encoded data removed]",
      "text/plain": [
       "<Figure size 1000x600 with 1 Axes>"
      ]
     },
     "metadata": {},
     "output_type": "display_data"
    }
   ],
   "source": [
    "fig, ax = plt.subplots(figsize=(10,6))\n",
    "\n",
    "for i, label in enumerate(fps):\n",
    "    \n",
    "    color = sns.color_palette()[i]\n",
    "\n",
    "    scores = []\n",
    "    for s in sizes:\n",
    "        key = label + '-' + str(s)\n",
    "        scores.append(tlls[key])\n",
    "        \n",
    "\n",
    "    ax.plot(sizes, scores, label=label, lw=.8, c=color)\n",
    "    ax.axhline(tlls[label + '-sparse'], ls='dashed', lw=.8, c=color, alpha=.5)\n",
    "    ax.scatter(sizes, scores, s=10, marker='o', c=color)\n",
    "\n",
    "    ax.set_xticks(sizes)\n",
    "    ax.set_xticklabels(sizes)\n",
    "\n",
    "    ax.set_xlabel('Fingerprint size')\n",
    "    ax.set_ylabel('Test Log-likelihood')\n",
    "    ax.set_title('Test Log-likelihood on Solubility Benchmark')\n",
    "    ax.legend()"
   ]
  },
  {
   "cell_type": "code",
   "execution_count": null,
   "metadata": {},
   "outputs": [],
   "source": []
  }
 ],
 "metadata": {
  "kernelspec": {
   "display_name": "polaris",
   "language": "python",
   "name": "python3"
  },
  "language_info": {
   "codemirror_mode": {
    "name": "ipython",
    "version": 3
   },
   "file_extension": ".py",
   "mimetype": "text/x-python",
   "name": "python",
   "nbconvert_exporter": "python",
   "pygments_lexer": "ipython3",
   "version": "3.12.0"
  }
 },
 "nbformat": 4,
 "nbformat_minor": 2
}
