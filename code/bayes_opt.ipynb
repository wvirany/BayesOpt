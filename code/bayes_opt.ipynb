{
 "cells": [
  {
   "cell_type": "markdown",
   "metadata": {},
   "source": [
    "# Configuration"
   ]
  },
  {
   "cell_type": "code",
   "execution_count": 132,
   "metadata": {},
   "outputs": [],
   "source": [
    "import numpy as np\n",
    "import jax.numpy as jnp\n",
    "import pandas as pd\n",
    "\n",
    "import polaris as po\n",
    "from polaris.hub.client import PolarisHubClient\n",
    "\n",
    "import tanimoto_gp\n",
    "from utils import smiles_to_fp, optimize_params\n",
    "\n",
    "import matplotlib.pyplot as plt\n",
    "import seaborn as sns\n",
    "\n",
    "from functools import partial\n",
    "import warnings\n",
    "warnings.filterwarnings(\"ignore\")"
   ]
  },
  {
   "cell_type": "code",
   "execution_count": 135,
   "metadata": {},
   "outputs": [],
   "source": [
    "# Set up Seaborn plotting style\n",
    "sns.set_style(\"darkgrid\",\n",
    "              {\"axes.facecolor\": \".95\",\n",
    "               \"axes.edgecolor\": \"#000000\",\n",
    "               \"grid.color\": \"#EBEBE7\",\n",
    "               \"font.family\": \"serif\",\n",
    "               \"axes.labelcolor\": \"#000000\",\n",
    "               \"xtick.color\": \"#000000\",\n",
    "               \"ytick.color\": \"#000000\",\n",
    "               \"grid.alpha\": 0.4 })\n",
    "sns.set_palette('muted')"
   ]
  },
  {
   "cell_type": "code",
   "execution_count": 20,
   "metadata": {},
   "outputs": [
    {
     "name": "stderr",
     "output_type": "stream",
     "text": [
      "\u001b[32m2025-01-15 09:24:11.801\u001b[0m | \u001b[32m\u001b[1mSUCCESS \u001b[0m | \u001b[36mpolaris.hub.client\u001b[0m:\u001b[36mlogin\u001b[0m:\u001b[36m268\u001b[0m - \u001b[32m\u001b[1mYou are successfully logged in to the Polaris Hub.\u001b[0m\n"
     ]
    },
    {
     "name": "stdout",
     "output_type": "stream",
     "text": [
      "⠧ Fetching dataset... "
     ]
    },
    {
     "name": "stderr",
     "output_type": "stream",
     "text": [
      "\u001b[32m2025-01-15 09:24:12.426\u001b[0m | \u001b[1mINFO    \u001b[0m | \u001b[36mpolaris._artifact\u001b[0m:\u001b[36m_validate_version\u001b[0m:\u001b[36m84\u001b[0m - \u001b[1mThe version of Polaris that was used to create the artifact (dev) is different from the currently installed version of Polaris (0.9.1).\u001b[0m\n",
      "\u001b[32m2025-01-15 09:24:12.433\u001b[0m | \u001b[1mINFO    \u001b[0m | \u001b[36mpolaris.mixins._checksum\u001b[0m:\u001b[36mverify_checksum\u001b[0m:\u001b[36m65\u001b[0m - \u001b[1mTo verify the checksum, we need to recompute it. This can be slow for large datasets.\u001b[0m\n"
     ]
    },
    {
     "name": "stdout",
     "output_type": "stream",
     "text": [
      "✅ SUCCESS: \u001b[1mFetched dataset.\u001b[0m\n",
      " \n"
     ]
    }
   ],
   "source": [
    "client = PolarisHubClient()\n",
    "client.login()\n",
    "\n",
    "dataset = po.load_dataset(\"biogen/adme-fang-v1\")"
   ]
  },
  {
   "cell_type": "markdown",
   "metadata": {},
   "source": [
    "# Data Processing"
   ]
  },
  {
   "cell_type": "code",
   "execution_count": 21,
   "metadata": {},
   "outputs": [
    {
     "data": {
      "text/plain": [
       "(3521, 9)"
      ]
     },
     "execution_count": 21,
     "metadata": {},
     "output_type": "execute_result"
    }
   ],
   "source": [
    "dataset.size()"
   ]
  },
  {
   "cell_type": "code",
   "execution_count": 33,
   "metadata": {},
   "outputs": [
    {
     "data": {
      "text/plain": [
       "'Brc1cc2c(cc1Cn1cncn1)OCCCO2'"
      ]
     },
     "execution_count": 33,
     "metadata": {},
     "output_type": "execute_result"
    }
   ],
   "source": [
    "dataset.get_data(\n",
    "    row=dataset.rows[0],\n",
    "    col=dataset.columns[1]\n",
    ")"
   ]
  },
  {
   "cell_type": "code",
   "execution_count": 61,
   "metadata": {},
   "outputs": [],
   "source": [
    "# Get all SMILES strings and logP values from dataset\n",
    "X = [dataset.get_data(\n",
    "    row=dataset.rows[i],\n",
    "    col='MOL_smiles'\n",
    "    ) for i in range(dataset.size()[0])]\n",
    "\n",
    "y = [dataset.get_data(\n",
    "    row=dataset.rows[i],\n",
    "    col='LOG_SOLUBILITY'\n",
    "    ) for i in range(dataset.size()[0])]"
   ]
  },
  {
   "cell_type": "code",
   "execution_count": 76,
   "metadata": {},
   "outputs": [],
   "source": [
    "# Filter molecules with NaN logP values\n",
    "filter = ~np.isnan(y)\n",
    "\n",
    "X = [i for idx, i in enumerate(X) if filter[idx]]\n",
    "y = [i for idx, i in enumerate(y) if filter[idx]]"
   ]
  },
  {
   "cell_type": "code",
   "execution_count": 77,
   "metadata": {},
   "outputs": [
    {
     "data": {
      "text/plain": [
       "2173"
      ]
     },
     "execution_count": 77,
     "metadata": {},
     "output_type": "execute_result"
    }
   ],
   "source": [
    "len(X)"
   ]
  },
  {
   "cell_type": "markdown",
   "metadata": {},
   "source": [
    "# Bayesian Optimization"
   ]
  },
  {
   "cell_type": "code",
   "execution_count": 101,
   "metadata": {},
   "outputs": [],
   "source": [
    "def upper_confidence_bound(X, gp, gp_params, beta=2.576):\n",
    "    \"\"\"\n",
    "    Computes the upper confidence bound (UCB) at points X\n",
    "    using a fitted Gaussian process surrogate model\n",
    "\n",
    "    Args:\n",
    "        X: Points at which UCB will be computed (m x d)\n",
    "        gp: A GP model fitted to samples\n",
    "        beta: Exploration-epxloitation trade-off parameter.\n",
    "               Default is 2.576 (99% confidence interval)\n",
    "\n",
    "    Returns:\n",
    "        UCB scores at points X\n",
    "    \"\"\"\n",
    "\n",
    "    # Get mean and standard deviation predictions\n",
    "    mean, var = gp.predict_y(gp_params, X, full_covar=False)\n",
    "\n",
    "    # Calculate upper confidence bound\n",
    "    ucb = mean + beta * np.sqrt(var)\n",
    "\n",
    "    return ucb"
   ]
  },
  {
   "cell_type": "code",
   "execution_count": 98,
   "metadata": {},
   "outputs": [],
   "source": []
  },
  {
   "cell_type": "code",
   "execution_count": null,
   "metadata": {},
   "outputs": [
    {
     "name": "stdout",
     "output_type": "stream",
     "text": [
      "Start MLL: -553.8016967773438\n",
      "End MLL (after optimization): -448.8641052246094\n",
      "End GP parameters (after optimization): TanimotoGP_Params(raw_amplitude=Array(-0.0055478, dtype=float32), raw_noise=Array(-0.96249396, dtype=float32))\n"
     ]
    }
   ],
   "source": []
  },
  {
   "cell_type": "code",
   "execution_count": null,
   "metadata": {},
   "outputs": [],
   "source": []
  },
  {
   "cell_type": "code",
   "execution_count": null,
   "metadata": {},
   "outputs": [],
   "source": [
    "X_new = np.argmax(ucb)"
   ]
  },
  {
   "cell_type": "code",
   "execution_count": 155,
   "metadata": {},
   "outputs": [
    {
     "name": "stdout",
     "output_type": "stream",
     "text": [
      "Start MLL: -553.8016967773438\n",
      "End MLL (after optimization): -448.8641052246094\n",
      "End GP parameters (after optimization): TanimotoGP_Params(raw_amplitude=Array(-0.0055478, dtype=float32), raw_noise=Array(-0.96249396, dtype=float32))\n",
      "107 CN(C)[C@@H]1CN(C(=O)CCn2cnc3ccccc32)C[C@H]1O 2.179264464\n",
      "1443 O=C(NCCCn1ccnc1)N1CCC12CCC2 1.614053106\n",
      "259 COCC(=O)N1CCN2C(=O)NC[C@H]2C1 1.584331224\n",
      "390 COc1ccc(CCC(=O)N2CCCNCC2)cc1 1.552668216\n",
      "1404 O=C(Cc1cccc(I)c1)N1CC(CO)C1 1.624282096\n",
      "167 CN(Cc1nnc(C2CC2)n1C)C(=O)C1C2CC3CC(C2)CC1C3 1.666892211\n",
      "146 CN(Cc1ccc(Br)o1)C(=O)CN1CCCC1=O 1.845284126\n",
      "132 CN(CC1(O)CCCC1)c1ncccn1 1.51308436\n",
      "995 Cc1ncsc1C(=O)N1C[C@@H]2CCCN(C(=O)c3scnc3C)[C@@H]2C1 1.880241776\n",
      "92 CN(C)C1(CNC(=O)N2CCCC(C)(C)CC2)CCOCC1 1.754806855\n",
      "1177 N#CC1(C(=O)N2CCN(Cc3ccccn3)CC2)CCCCC1 1.716587578\n",
      "985 Cc1nccc(C2(C)CCN(CC(N)=O)CC2)n1 1.77633791\n",
      "1306 Nc1ncnc2c1ncn2[C@@H]1O[C@H](CO)[C@@H](O)[C@@H]1O 1.737987326\n",
      "524 CSCC(=O)N1CCN(C(=O)CSC)C2(CCCCC2)C1 1.703549298\n",
      "908 Cc1n[nH]c(C)c1CCC(=O)N1CCOCC1 1.40790054\n",
      "574 Cc1cc(C(=O)N(C)C2CCC2)n2nccc2n1 1.958563883\n",
      "1468 O=C(NCc1nnc2c(O)nccn12)C1CCCC1 1.621591676\n",
      "1693 c1ccc(CCn2cnc3c2CCN(c2ncccn2)C3)cc1 1.612359948\n",
      "987 Cc1nccn1CCNC(=O)C(C)(C)C 1.418135498\n",
      "1017 Cc1nnc(N2CC[C@H](O)C2)c(C#N)c1C 1.494711025\n",
      "731 Cc1ccc(CCNC(=O)N2CC(C)(C)OC(C)(C)C2)cn1 1.61415871\n",
      "875 Cc1ccsc1CN(C)C(=O)[C@@H]1CCCN1C(=O)NC(C)C 1.624488363\n",
      "1237 NC(=O)C1(CCCc2ccccn2)CCNCC1 1.587486465\n",
      "24 CCc1cnc(CNC(=O)N2CCC(n3cncn3)CC2)s1 1.694078462\n",
      "29 CCc1nc(CC)n(Cc2nc(C)cs2)n1 1.554731377\n",
      "275 COCc1nc(C2CCN(CCO)CC2)no1 1.557507202\n",
      "543 C[C@@H]1CCN(C(=O)CC#N)C[C@@H]1N(C)c1ncnc2[nH]ccc12 1.614833965\n",
      "1236 NC(=O)CC1CCN(c2ncccn2)CC1 1.765072201\n",
      "90 CN(C)C1=N[C@@H]2[C@@H](O)[C@H](O)[C@@H](CO)O[C@@H]2S1 1.564666064\n",
      "978 Cc1nccn1-c1cncc(N2CCN(CC3CCCC3)C(=O)C2)n1 1.696356389\n"
     ]
    }
   ],
   "source": [
    "split = int(.2 * len(X))\n",
    "\n",
    "X_observed, X_unlabeled = X[:split], X[split:]\n",
    "y_observed, y_unlabeled = y[:split], y[split:]\n",
    "\n",
    "gp = tanimoto_gp.TanimotoGP(smiles_to_fp, X_observed, y_observed)\n",
    "gp_params = tanimoto_gp.TanimotoGP_Params(raw_amplitude=jnp.asarray(1.0), raw_noise=jnp.asarray(1e-2))\n",
    "gp_params = optimize_params(gp, gp_params)\n",
    "\n",
    "best = []\n",
    "\n",
    "for i in range(30):\n",
    "\n",
    "    best.append(np.max(y_observed))\n",
    "\n",
    "    ucb = upper_confidence_bound(X_unlabeled, gp, gp_params)\n",
    "    idx = np.argmax(ucb)\n",
    "\n",
    "    X_new = X_unlabeled.pop(idx)\n",
    "    y_new = y_unlabeled.pop(idx)\n",
    "\n",
    "    print(idx, X_new, y_new)\n",
    "\n",
    "    X_observed.append(X_new)\n",
    "    y_observed.append(y_new)\n",
    "\n",
    "    gp = tanimoto_gp.TanimotoGP(smiles_to_fp, X_observed, y_observed)"
   ]
  },
  {
   "cell_type": "code",
   "execution_count": 156,
   "metadata": {},
   "outputs": [
    {
     "name": "stdout",
     "output_type": "stream",
     "text": [
      "Start MLL: -553.8016967773438\n",
      "End MLL (after optimization): -448.8641052246094\n",
      "End GP parameters (after optimization): TanimotoGP_Params(raw_amplitude=Array(-0.0055478, dtype=float32), raw_noise=Array(-0.96249396, dtype=float32))\n",
      "793 Cc1ccc2c(c1)c1nc3ccccc3nc1n2CC(N)=O -0.795880017\n",
      "1602 O=C1CCC(=O)N1Cc1nc(C23CC4CC(CC(C4)C2)C3)cs1 1.630936119\n",
      "354 COc1ccc(-c2csc(CC(N)=O)n2)cc1 1.495544338\n",
      "349 COc1ccc(-c2cccc(C3CCCN(C(=O)C4CCCC4)C3)n2)cc1 0.389166084\n",
      "251 COC(=O)[C@@H]1Cc2ncn(Cc3ccccc3)c2CN1C(C)=O 1.507855872\n",
      "354 COc1ccc(-c2nc(C3CCN(C(=O)c4sc(C)nc4C)CC3)[nH]c2C(N)=O)cc1 1.790918195\n",
      "264 COCC1CCN(c2noc(-c3cccs3)n2)CC1 1.109578547\n",
      "505 COc1ncccc1CNc1ncnc2c1cnn2C 1.668479103\n",
      "618 Cc1cc(C)nc(CNC(=O)CC2CCNCC2)n1 1.744605875\n",
      "978 Cc1nccc(-c2cccc(-n3ccnc3C(C)C)c2)n1 1.606381365\n",
      "447 COc1cccc(-c2nc(-c3cccnc3)n[nH]2)c1 1.355259906\n",
      "306 COc1cc(CCNC(=O)c2nc3cccc(C)n3c2F)cc(OC)c1 1.596926814\n",
      "1376 O=C(COc1ccc2ccc(=O)oc2c1)Nc1cccc(COCc2ccco2)c1 1.329397879\n",
      "1207 N#Cc1ccc(CCC(=O)Nc2ccncc2)cc1 1.579097327\n",
      "1441 O=C(NCCc1ccc2c(c1)OCO2)N1CCc2sccc2C1 1.658488381\n",
      "454 COc1cccc(C(=O)C[n+]2cc(-c3ccc(F)cc3)n(C)c2N)c1 1.869994\n",
      "477 COc1ccccc1-c1nc(-c2ccc(NC(C)=O)cc2)c(C)s1 -0.13667714\n",
      "562 Cc1c(Cl)ccc2cc3n(c12)[C@@H](C)CNC3=O 1.522444234\n",
      "137 CN(CCN(C)C1CCCC1)C(=O)c1ccc(-c2nc[nH]n2)cc1 1.56549363\n",
      "1206 N#Cc1ccc(Cn2cncn2)c(F)c1 1.42373725\n",
      "240 CNc1nc(C2CCNCC2)nc2c1CN(C)CC2 1.559308011\n",
      "739 Cc1ccc(Cn2nc(C)c(C(N)=O)c2Cl)cc1 1.387567779\n",
      "848 Cc1cccn(Cc2cccc(C#N)c2)c1=O 1.489958479\n",
      "658 Cc1cc2ccccc2n1CC(=O)N(C)Cc1cnn(C)c1 1.67651071\n",
      "499 COc1ncccc1NC(=O)c1cccc(C)n1 1.378034322\n",
      "756 Cc1ccc(NC(=O)c2cccc(N(C)C)c2)cc1NC(=O)c1ccc(O)cc1 0.51851394\n",
      "1302 O=C(C1CC1c1ccc(F)cc1)N1CCC(n2c(=O)[nH]c3ccccc32)CC1 1.678973376\n",
      "1449 O=C(NCc1ccc2c(c1)OCCO2)c1sccc1C1CC1 1.493876111\n",
      "1353 O=C(CN1CCCc2ccc(F)cc21)N1CCNC1=O 1.654561555\n",
      "1042 Cc1oc2cc(OCC(=O)Nc3nccs3)ccc2c(=O)c1Oc1ccc(F)cc1 -0.301029996\n"
     ]
    }
   ],
   "source": [
    "split = int(.2 * len(X))\n",
    "\n",
    "X_observed, X_unlabeled = X[:split], X[split:]\n",
    "y_observed, y_unlabeled = y[:split], y[split:]\n",
    "\n",
    "gp = tanimoto_gp.TanimotoGP(smiles_to_fp, X_observed, y_observed)\n",
    "gp_params = tanimoto_gp.TanimotoGP_Params(raw_amplitude=jnp.asarray(1.0), raw_noise=jnp.asarray(1e-2))\n",
    "gp_params = optimize_params(gp, gp_params)\n",
    "\n",
    "best_uniform = []\n",
    "\n",
    "for i in range(30):\n",
    "\n",
    "    best_uniform.append(np.max(y_observed))\n",
    "\n",
    "    idx = np.random.randint(len(X_unlabeled))\n",
    "\n",
    "    X_new = X_unlabeled.pop(idx)\n",
    "    y_new = y_unlabeled.pop(idx)\n",
    "\n",
    "    print(idx, X_new, y_new)\n",
    "\n",
    "    X_observed.append(X_new)\n",
    "    y_observed.append(y_new)\n",
    "\n",
    "    gp = tanimoto_gp.TanimotoGP(smiles_to_fp, X_observed, y_observed)"
   ]
  },
  {
   "cell_type": "code",
   "execution_count": 163,
   "metadata": {},
   "outputs": [
    {
     "data": {
      "image/png": "[encoded data removed]",
      "text/plain": [
       "<Figure size 640x480 with 1 Axes>"
      ]
     },
     "metadata": {},
     "output_type": "display_data"
    }
   ],
   "source": [
    "plt.plot(np.arange(len(best)), best, lw=1, label='UCB')\n",
    "plt.scatter(np.arange(len(best)), best, s=5)\n",
    "\n",
    "plt.plot(np.arange(len(best)), best_uniform, lw=1, label='Uniform')\n",
    "plt.scatter(np.arange(len(best)), best_uniform, s=5)\n",
    "\n",
    "plt.xlabel('Iteration')\n",
    "plt.ylabel('LogP')\n",
    "plt.title('Max logP value in set at each iteration')\n",
    "plt.legend();"
   ]
  },
  {
   "cell_type": "code",
   "execution_count": null,
   "metadata": {},
   "outputs": [],
   "source": []
  }
 ],
 "metadata": {
  "kernelspec": {
   "display_name": "polaris",
   "language": "python",
   "name": "python3"
  },
  "language_info": {
   "codemirror_mode": {
    "name": "ipython",
    "version": 3
   },
   "file_extension": ".py",
   "mimetype": "text/x-python",
   "name": "python",
   "nbconvert_exporter": "python",
   "pygments_lexer": "ipython3",
   "version": "3.12.0"
  }
 },
 "nbformat": 4,
 "nbformat_minor": 2
}
